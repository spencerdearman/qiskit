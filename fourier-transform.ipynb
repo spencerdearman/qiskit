{
 "cells": [
  {
   "cell_type": "code",
   "execution_count": 2,
   "metadata": {},
   "outputs": [],
   "source": [
    "import cirq\n",
    "import qiskit\n",
    "from qiskit import QuantumCircuit\n",
    "import numpy as np\n",
    "import matplotlib.pyplot as plt"
   ]
  },
  {
   "cell_type": "markdown",
   "metadata": {},
   "source": [
    "### Cirq: Quantum Fourier Transform Circuits"
   ]
  },
  {
   "cell_type": "code",
   "execution_count": 3,
   "metadata": {},
   "outputs": [
    {
     "name": "stdout",
     "output_type": "stream",
     "text": [
      "                  ┌───────┐   ┌────────────┐   ┌───────────────┐   ┌────────────┐   ┌───────┐\n",
      "0: ───H───@────────@───────────@────────────────@───────────────────────────────────────────────────────────×───\n",
      "          │        │           │                │                                                           │\n",
      "1: ───────@^0.5────┼─────H─────┼──────@─────────┼───────@───────────@───────────────────────────────────×───┼───\n",
      "                   │           │      │         │       │           │                                   │   │\n",
      "2: ────────────────@^0.25──────┼──────@^0.5─────┼───────┼─────H─────┼──────@─────────@──────────────────┼───┼───\n",
      "                               │                │       │           │      │         │                  │   │\n",
      "3: ────────────────────────────@^(1/8)──────────┼───────@^0.25──────┼──────@^0.5─────┼─────H────@───────×───┼───\n",
      "                                                │                   │                │          │           │\n",
      "4: ─────────────────────────────────────────────@^(1/16)────────────@^(1/8)──────────@^0.25─────@^0.5───H───×───\n",
      "                  └───────┘   └────────────┘   └───────────────┘   └────────────┘   └───────┘\n"
     ]
    }
   ],
   "source": [
    "\"\"\"Pass in the qubits into the quantum Fourier transform circuit.\"\"\"\n",
    "def cirq_quantum_fourier_transform(qubits) -> None:\n",
    "    n = len(qubits)\n",
    "    circuit = cirq.Circuit()\n",
    "\n",
    "    for i in range(n):\n",
    "        circuit.append(cirq.H(qubits[i]))\n",
    "        for j in range(i + 1, n):\n",
    "            circuit.append(cirq.CZ(qubits[j], qubits[i]) ** (1 / (2 ** (j - i))))\n",
    "    \n",
    "    # Swapping\n",
    "    for i in range(n // 2):\n",
    "        circuit.append(cirq.SWAP(qubits[i], qubits[n - i - 1]))\n",
    "\n",
    "    return circuit\n",
    "\n",
    "\n",
    "num_qubits = 5\n",
    "qubits = [cirq.LineQubit(i) for i in range(num_qubits)]\n",
    "circuit = cirq_quantum_fourier_transform(qubits)\n",
    "print(circuit)"
   ]
  },
  {
   "cell_type": "markdown",
   "metadata": {},
   "source": [
    "### Qiskit: Quantum Fourier Transform Circuits"
   ]
  },
  {
   "cell_type": "code",
   "execution_count": 4,
   "metadata": {},
   "outputs": [
    {
     "name": "stdout",
     "output_type": "stream",
     "text": [
      "     ┌───┐                                                                  »\n",
      "q_0: ┤ H ├─■────────■──────────────■───────────────────■────────────────────»\n",
      "     └───┘ │P(0.5)  │        ┌───┐ │                   │                    »\n",
      "q_1: ──────■────────┼────────┤ H ├─┼──────────■────────┼───────────■────────»\n",
      "                    │P(0.25) └───┘ │          │P(0.5)  │           │        »\n",
      "q_2: ───────────────■──────────────┼──────────■────────┼───────────┼────────»\n",
      "                                   │P(0.125)           │           │P(0.25) »\n",
      "q_3: ──────────────────────────────■───────────────────┼───────────■────────»\n",
      "                                                       │P(0.0625)           »\n",
      "q_4: ──────────────────────────────────────────────────■────────────────────»\n",
      "                                                                            »\n",
      "«                                                              \n",
      "«q_0: ───────────────────────────────────────────────────────X─\n",
      "«                                                            │ \n",
      "«q_1: ──────■────────────────────────────────────────────X───┼─\n",
      "«     ┌───┐ │                                            │   │ \n",
      "«q_2: ┤ H ├─┼──────────■────────■────────────────────────┼───┼─\n",
      "«     └───┘ │          │P(0.5)  │        ┌───┐           │   │ \n",
      "«q_3: ──────┼──────────■────────┼────────┤ H ├─■─────────X───┼─\n",
      "«           │P(0.125)           │P(0.25) └───┘ │P(0.5) ┌───┐ │ \n",
      "«q_4: ──────■───────────────────■──────────────■───────┤ H ├─X─\n",
      "«                                                      └───┘   \n"
     ]
    }
   ],
   "source": [
    "\"\"\"Pass the qubits into the quantum Fourier transform circuit\"\"\"\n",
    "def qiskit_quantum_fourier_transform(n) -> QuantumCircuit:\n",
    "    circuit = QuantumCircuit(n)\n",
    "\n",
    "    for i in range(n):\n",
    "        circuit.h(i)\n",
    "        for j in range(i + 1, n):\n",
    "            circuit.cp(1 / (2 ** (j - i)), j, i)\n",
    "\n",
    "    # Swapping\n",
    "    for i in range(n // 2):\n",
    "        circuit.swap(i, n - i - 1)\n",
    "    \n",
    "    return circuit\n",
    "\n",
    "num_qubits = 5\n",
    "circuit = qiskit_quantum_fourier_transform(num_qubits)\n",
    "print(circuit.draw())"
   ]
  },
  {
   "cell_type": "code",
   "execution_count": 8,
   "metadata": {},
   "outputs": [
    {
     "name": "stdout",
     "output_type": "stream",
     "text": [
      "                  ┌───────┐   ┌────────────┐   ┌───────────────┐   ┌────────────┐   ┌───────┐\n",
      "0: ───H───@────────@───────────@────────────────@───────────────────────────────────────────────────────────×───\n",
      "          │        │           │                │                                                           │\n",
      "1: ───────@^0.5────┼─────H─────┼──────@─────────┼───────@───────────@───────────────────────────────────×───┼───\n",
      "                   │           │      │         │       │           │                                   │   │\n",
      "2: ────────────────@^0.25──────┼──────@^0.5─────┼───────┼─────H─────┼──────@─────────@──────────────────┼───┼───\n",
      "                               │                │       │           │      │         │                  │   │\n",
      "3: ────────────────────────────@^(1/8)──────────┼───────@^0.25──────┼──────@^0.5─────┼─────H────@───────×───┼───\n",
      "                                                │                   │                │          │           │\n",
      "4: ─────────────────────────────────────────────@^(1/16)────────────@^(1/8)──────────@^0.25─────@^0.5───H───×───\n",
      "                  └───────┘   └────────────┘   └───────────────┘   └────────────┘   └───────┘\n"
     ]
    },
    {
     "data": {
      "image/png": "[encoded data removed]",
      "text/plain": [
       "<Figure size 640x480 with 1 Axes>"
      ]
     },
     "metadata": {},
     "output_type": "display_data"
    },
    {
     "name": "stdout",
     "output_type": "stream",
     "text": [
      "10.666666666666666\n"
     ]
    }
   ],
   "source": [
    "num_qubits = 5\n",
    "qubits = [cirq.LineQubit(i) for i in range(num_qubits)]\n",
    "state = [np.exp(-2j * np.pi * i / 10) / np.sqrt(2 ** 5) for i in range(32)]\n",
    "\n",
    "# Create the full circuit with state preparation and QFT\n",
    "circuit = cirq_quantum_fourier_transform(qubits)\n",
    "print(circuit)\n",
    "    \n",
    "# Simulate the circuit\n",
    "simulator = cirq.Simulator()\n",
    "result = simulator.simulate(circuit, initial_state=state)\n",
    "state_vector = result.final_state_vector\n",
    "state_probs = np.abs(state_vector[:2**num_qubits]) ** 2\n",
    "state_probs = list(state_probs)\n",
    "    \n",
    "plt.bar(range(len(state_probs)), state_probs)\n",
    "plt.xlabel(\"|x⟩\")\n",
    "plt.ylabel(\"Probability\")\n",
    "plt.title(\"State After QFT\")\n",
    "plt.show()\n",
    "\n",
    "print(2 ** 5 / state_probs.index(max(state_probs)))"
   ]
  }
 ],
 "metadata": {
  "kernelspec": {
   "display_name": ".venv",
   "language": "python",
   "name": "python3"
  },
  "language_info": {
   "codemirror_mode": {
    "name": "ipython",
    "version": 3
   },
   "file_extension": ".py",
   "mimetype": "text/x-python",
   "name": "python",
   "nbconvert_exporter": "python",
   "pygments_lexer": "ipython3",
   "version": "3.12.3"
  }
 },
 "nbformat": 4,
 "nbformat_minor": 2
}
